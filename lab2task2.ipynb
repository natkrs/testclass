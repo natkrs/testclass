{
  "nbformat": 4,
  "nbformat_minor": 0,
  "metadata": {
    "colab": {
      "provenance": [],
      "authorship_tag": "ABX9TyNlFhz1b7iqbesTW1quMPNV",
      "include_colab_link": true
    },
    "kernelspec": {
      "name": "python3",
      "display_name": "Python 3"
    },
    "language_info": {
      "name": "python"
    }
  },
  "cells": [
    {
      "cell_type": "markdown",
      "metadata": {
        "id": "view-in-github",
        "colab_type": "text"
      },
      "source": [
        "<a href=\"https://colab.research.google.com/github/natkrs/testclass/blob/while_variant/lab2task2.ipynb\" target=\"_parent\"><img src=\"https://colab.research.google.com/assets/colab-badge.svg\" alt=\"Open In Colab\"/></a>"
      ]
    },
    {
      "cell_type": "code",
      "execution_count": null,
      "metadata": {
        "id": "PV6PVVsVeXsK"
      },
      "outputs": [],
      "source": [
        "my_list = [1, 2, 3, \"apple\", \"banana\"]"
      ]
    },
    {
      "cell_type": "code",
      "source": [
        "my_list = [1, 2, 3, \"apple\", \"banana\"]\n",
        "\n",
        "index = 0\n",
        "\n",
        "while index < len(my_list):\n",
        "    print(my_list[index])\n",
        "    index +=1"
      ],
      "metadata": {
        "id": "gUB2R8cdfx2x",
        "outputId": "c72ca9dd-ed36-49ec-c5a8-ecac4695800f",
        "colab": {
          "base_uri": "https://localhost:8080/"
        }
      },
      "execution_count": 2,
      "outputs": [
        {
          "output_type": "stream",
          "name": "stdout",
          "text": [
            "1\n",
            "2\n",
            "3\n",
            "apple\n",
            "banana\n"
          ]
        }
      ]
    }
  ]
}