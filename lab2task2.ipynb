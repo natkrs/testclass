{
  "nbformat": 4,
  "nbformat_minor": 0,
  "metadata": {
    "colab": {
      "provenance": [],
      "authorship_tag": "ABX9TyMghV9s9lHdZGhYTd3+IdO0",
      "include_colab_link": true
    },
    "kernelspec": {
      "name": "python3",
      "display_name": "Python 3"
    },
    "language_info": {
      "name": "python"
    }
  },
  "cells": [
    {
      "cell_type": "markdown",
      "metadata": {
        "id": "view-in-github",
        "colab_type": "text"
      },
      "source": [
        "<a href=\"https://colab.research.google.com/github/natkrs/testclass/blob/while_variant/lab2task2.ipynb\" target=\"_parent\"><img src=\"https://colab.research.google.com/assets/colab-badge.svg\" alt=\"Open In Colab\"/></a>"
      ]
    },
    {
      "cell_type": "code",
      "execution_count": 1,
      "metadata": {
        "id": "PV6PVVsVeXsK"
      },
      "outputs": [],
      "source": [
        "# Create a list with some content\n",
        "my_list = [1, 2, 3, \"apple\", \"banana\"]\n"
      ]
    },
    {
      "cell_type": "code",
      "source": [
        "# Loop to display the content of the list\n",
        "for item in my_list:\n",
        "    print(item)"
      ],
      "metadata": {
        "id": "gUB2R8cdfx2x"
      },
      "execution_count": null,
      "outputs": []
    }
  ]
}