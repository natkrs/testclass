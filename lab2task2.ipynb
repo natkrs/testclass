{
  "nbformat": 4,
  "nbformat_minor": 0,
  "metadata": {
    "colab": {
      "provenance": [],
      "authorship_tag": "ABX9TyO3wKTOa7XWJuLJGfcuWSC9",
      "include_colab_link": true
    },
    "kernelspec": {
      "name": "python3",
      "display_name": "Python 3"
    },
    "language_info": {
      "name": "python"
    }
  },
  "cells": [
    {
      "cell_type": "markdown",
      "metadata": {
        "id": "view-in-github",
        "colab_type": "text"
      },
      "source": [
        "<a href=\"https://colab.research.google.com/github/natkrs/testclass/blob/master/lab2task2.ipynb\" target=\"_parent\"><img src=\"https://colab.research.google.com/assets/colab-badge.svg\" alt=\"Open In Colab\"/></a>"
      ]
    },
    {
      "cell_type": "code",
      "execution_count": 1,
      "metadata": {
        "id": "PV6PVVsVeXsK"
      },
      "outputs": [],
      "source": [
        "# Create a list with some content\n",
        "my_list = [1, 2, 3, \"apple\", \"banana\"]\n"
      ]
    },
    {
      "cell_type": "code",
      "source": [
        "# Loop to display the content of the list\n",
        "for item in my_list:\n",
        "    print(item)\n"
      ],
      "metadata": {
        "colab": {
          "base_uri": "https://localhost:8080/"
        },
        "id": "UmEQHUabfQXT",
        "outputId": "73ca76ba-b177-4c46-87e2-04a3479aad17"
      },
      "execution_count": 2,
      "outputs": [
        {
          "output_type": "stream",
          "name": "stdout",
          "text": [
            "1\n",
            "2\n",
            "3\n",
            "apple\n",
            "banana\n"
          ]
        }
      ]
    }
  ]
}